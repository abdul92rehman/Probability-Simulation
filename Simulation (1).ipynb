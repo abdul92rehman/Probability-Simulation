{
 "cells": [
  {
   "cell_type": "code",
   "execution_count": 1,
   "metadata": {},
   "outputs": [],
   "source": [
    "# Librarirs\n",
    "from symbulate import *\n",
    "from tabulate import tabulate\n",
    "import matplotlib.pyplot as plt\n",
    "import seaborn as sn"
   ]
  },
  {
   "cell_type": "code",
   "execution_count": 2,
   "metadata": {},
   "outputs": [
    {
     "data": {
      "text/html": [
       "\n",
       "<table>\n",
       "  <thead>\n",
       "    <th width=\"80%\">Outcome</th>\n",
       "    <th width=\"20%\">Frequency</th>\n",
       "  </thead>\n",
       "  <tbody>\n",
       "    <tr><td>(Medical_practitioner, Medical_practitioner)</td><td>1092</td></tr><tr><td>(Medical_practitioner, Ordinary_citizen)</td><td>1113</td></tr><tr><td>(Medical_practitioner, Politician)</td><td>1099</td></tr><tr><td>(Ordinary_citizen, Medical_practitioner)</td><td>1107</td></tr><tr><td>(Ordinary_citizen, Ordinary_citizen)</td><td>1116</td></tr><tr><td>(Ordinary_citizen, Politician)</td><td>1087</td></tr><tr><td>(Politician, Medical_practitioner)</td><td>1133</td></tr><tr><td>(Politician, Ordinary_citizen)</td><td>1116</td></tr><tr><td>(Politician, Politician)</td><td>1137</td></tr><tr><td><b>Total</b></td><td><b>10000</b></td></tr>\n",
       "  </tbody>\n",
       "</table>\n"
      ],
      "text/plain": [
       "Outcome                                      Frequency\n",
       "(Medical_practitioner, Medical_practitioner) 1092\n",
       "(Medical_practitioner, Ordinary_citizen)     1113\n",
       "(Medical_practitioner, Politician)           1099\n",
       "(Ordinary_citizen, Medical_practitioner)     1107\n",
       "(Ordinary_citizen, Ordinary_citizen)         1116\n",
       "(Ordinary_citizen, Politician)               1087\n",
       "(Politician, Medical_practitioner)           1133\n",
       "(Politician, Ordinary_citizen)               1116\n",
       "(Politician, Politician)                     1137\n",
       "                                       Total 10000"
      ]
     },
     "execution_count": 2,
     "metadata": {},
     "output_type": "execute_result"
    }
   ],
   "source": [
    "P = BoxModel(['Politician', 'Ordinary_citizen', 'Medical_practitioner'], \n",
    "             size=2, replace = True) \n",
    "P.sim(10000).tabulate()"
   ]
  },
  {
   "cell_type": "code",
   "execution_count": 3,
   "metadata": {},
   "outputs": [
    {
     "data": {
      "text/html": [
       "\n",
       "<table>\n",
       "  <thead>\n",
       "    <th width=\"80%\">Outcome</th>\n",
       "    <th width=\"20%\">Relative Frequency</th>\n",
       "  </thead>\n",
       "  <tbody>\n",
       "    <tr><td>(Medical_practitioner, Medical_practitioner)</td><td>0.1053</td></tr><tr><td>(Medical_practitioner, Ordinary_citizen)</td><td>0.1169</td></tr><tr><td>(Medical_practitioner, Politician)</td><td>0.1113</td></tr><tr><td>(Ordinary_citizen, Medical_practitioner)</td><td>0.1135</td></tr><tr><td>(Ordinary_citizen, Ordinary_citizen)</td><td>0.1142</td></tr><tr><td>(Ordinary_citizen, Politician)</td><td>0.1116</td></tr><tr><td>(Politician, Medical_practitioner)</td><td>0.1111</td></tr><tr><td>(Politician, Ordinary_citizen)</td><td>0.1088</td></tr><tr><td>(Politician, Politician)</td><td>0.1073</td></tr><tr><td><b>Total</b></td><td><b>1.0</b></td></tr>\n",
       "  </tbody>\n",
       "</table>\n"
      ],
      "text/plain": [
       "Outcome                                      Relative Frequency\n",
       "(Medical_practitioner, Medical_practitioner) 0.1053\n",
       "(Medical_practitioner, Ordinary_citizen)     0.1169\n",
       "(Medical_practitioner, Politician)           0.1113\n",
       "(Ordinary_citizen, Medical_practitioner)     0.1135\n",
       "(Ordinary_citizen, Ordinary_citizen)         0.1142\n",
       "(Ordinary_citizen, Politician)               0.1116\n",
       "(Politician, Medical_practitioner)           0.1111\n",
       "(Politician, Ordinary_citizen)               0.1088\n",
       "(Politician, Politician)                     0.1073\n",
       "                                       Total 1.0"
      ]
     },
     "execution_count": 3,
     "metadata": {},
     "output_type": "execute_result"
    }
   ],
   "source": [
    "P.sim(10000).tabulate(normalize=True)"
   ]
  },
  {
   "cell_type": "code",
   "execution_count": 4,
   "metadata": {},
   "outputs": [
    {
     "data": {
      "text/html": [
       "\n",
       "<table>\n",
       "  <thead>\n",
       "    <th width=\"80%\">Outcome</th>\n",
       "    <th width=\"20%\">Frequency</th>\n",
       "  </thead>\n",
       "  <tbody>\n",
       "    <tr><td>(0, 0)</td><td>1121</td></tr><tr><td>(0, 1)</td><td>1106</td></tr><tr><td>(0, 2)</td><td>1105</td></tr><tr><td>(1, 0)</td><td>1076</td></tr><tr><td>(1, 1)</td><td>1124</td></tr><tr><td>(1, 2)</td><td>1126</td></tr><tr><td>(2, 0)</td><td>1138</td></tr><tr><td>(2, 1)</td><td>1118</td></tr><tr><td>(2, 2)</td><td>1086</td></tr><tr><td><b>Total</b></td><td><b>10000</b></td></tr>\n",
       "  </tbody>\n",
       "</table>\n"
      ],
      "text/plain": [
       "Outcome Frequency\n",
       "(0, 0)  1121\n",
       "(0, 1)  1106\n",
       "(0, 2)  1105\n",
       "(1, 0)  1076\n",
       "(1, 1)  1124\n",
       "(1, 2)  1126\n",
       "(2, 0)  1138\n",
       "(2, 1)  1118\n",
       "(2, 2)  1086\n",
       "  Total 10000"
      ]
     },
     "execution_count": 4,
     "metadata": {},
     "output_type": "execute_result"
    }
   ],
   "source": [
    "P = BoxModel([0, 1, 2], size=2, replace = True) \n",
    "# 0 = Politician, 1 = Medical_practitioners, 2 = Ordinary_citizen\n",
    "P.sim(10000).tabulate()"
   ]
  },
  {
   "cell_type": "code",
   "execution_count": 5,
   "metadata": {},
   "outputs": [],
   "source": [
    "X = RV(P, min)  # Politician\n",
    "Y = RV(P, max)  # Ordinary citizen"
   ]
  },
  {
   "cell_type": "code",
   "execution_count": 6,
   "metadata": {},
   "outputs": [
    {
     "name": "stdout",
     "output_type": "stream",
     "text": [
      "Warning: Calling an RV as a function simply applies the function that defines the RV to the input, regardless of whether that input is a possible outcome in the underlying probability space.\n",
      "Warning: Calling an RV as a function simply applies the function that defines the RV to the input, regardless of whether that input is a possible outcome in the underlying probability space.\n"
     ]
    },
    {
     "data": {
      "text/plain": [
       "(0, 1)"
      ]
     },
     "execution_count": 6,
     "metadata": {},
     "output_type": "execute_result"
    }
   ],
   "source": [
    "outcome = (0, 1)\n",
    "X(outcome), Y(outcome)"
   ]
  },
  {
   "cell_type": "code",
   "execution_count": 7,
   "metadata": {},
   "outputs": [
    {
     "data": {
      "text/plain": [
       "(0.5571, 0.46073959000000003)"
      ]
     },
     "execution_count": 7,
     "metadata": {},
     "output_type": "execute_result"
    }
   ],
   "source": [
    "x = X.sim(10000)\n",
    "x.mean(), x.var()  # mean and variance of X random variable"
   ]
  },
  {
   "cell_type": "code",
   "execution_count": 9,
   "metadata": {},
   "outputs": [
    {
     "data": {
      "image/png": "[encoded data removed]",
      "text/plain": [
       "<Figure size 432x288 with 1 Axes>"
      ]
     },
     "metadata": {
      "needs_background": "light"
     },
     "output_type": "display_data"
    }
   ],
   "source": [
    "x.tabulate(normalize=True)\n",
    "plt.title(\"Approximate Distribution of X\")\n",
    "plt.xlabel(\"0 = Politician, 1 = Ordinary_Citizen, 2 = Medical_Practitioners\")\n",
    "x.plot(linewidth = 8)"
   ]
  },
  {
   "cell_type": "code",
   "execution_count": 8,
   "metadata": {},
   "outputs": [
    {
     "data": {
      "text/plain": [
       "(1.4518, 0.4618767600000001)"
      ]
     },
     "execution_count": 8,
     "metadata": {},
     "output_type": "execute_result"
    }
   ],
   "source": [
    "y = Y.sim(10000)\n",
    "y.mean(), y.var()  # mean and variance of Y random variable"
   ]
  },
  {
   "cell_type": "code",
   "execution_count": 10,
   "metadata": {},
   "outputs": [
    {
     "data": {
      "image/png": "[encoded data removed]",
      "text/plain": [
       "<Figure size 432x288 with 1 Axes>"
      ]
     },
     "metadata": {
      "needs_background": "light"
     },
     "output_type": "display_data"
    }
   ],
   "source": [
    "y.tabulate(normalize=True)\n",
    "plt.title(\"Approximate Distribution of Y\")\n",
    "plt.xlabel(\"0 = Politician, 1 = Ordinary_Citizen, 2 = Medical_Practitioners\")\n",
    "y.plot(linewidth = 8)"
   ]
  },
  {
   "cell_type": "code",
   "execution_count": 11,
   "metadata": {},
   "outputs": [
    {
     "data": {
      "text/html": [
       "\n",
       "<table>\n",
       "  <thead>\n",
       "    <th width=\"80%\">Value</th>\n",
       "    <th width=\"20%\">Relative Frequency</th>\n",
       "  </thead>\n",
       "  <tbody>\n",
       "    <tr><td>(0, 0)</td><td>0.1109</td></tr><tr><td>(0, 1)</td><td>0.2275</td></tr><tr><td>(0, 2)</td><td>0.2255</td></tr><tr><td>(1, 1)</td><td>0.1026</td></tr><tr><td>(1, 2)</td><td>0.2243</td></tr><tr><td>(2, 2)</td><td>0.1092</td></tr><tr><td><b>Total</b></td><td><b>1.0</b></td></tr>\n",
       "  </tbody>\n",
       "</table>\n"
      ],
      "text/plain": [
       "Value  Relative Frequency\n",
       "(0, 0) 0.1109\n",
       "(0, 1) 0.2275\n",
       "(0, 2) 0.2255\n",
       "(1, 1) 0.1026\n",
       "(1, 2) 0.2243\n",
       "(2, 2) 0.1092\n",
       " Total 1.0"
      ]
     },
     "execution_count": 11,
     "metadata": {},
     "output_type": "execute_result"
    }
   ],
   "source": [
    "joint = (X & Y).sim(10000).tabulate(normalize=True)\n",
    "joint"
   ]
  },
  {
   "cell_type": "code",
   "execution_count": 12,
   "metadata": {},
   "outputs": [
    {
     "data": {
      "image/png": "[encoded data removed]",
      "text/plain": [
       "<Figure size 432x288 with 4 Axes>"
      ]
     },
     "metadata": {
      "needs_background": "light"
     },
     "output_type": "display_data"
    }
   ],
   "source": [
    "(X & Y).sim(10000).plot(\n",
    "type=[\"tile\", \"marginal\"])"
   ]
  },
  {
   "cell_type": "code",
   "execution_count": 13,
   "metadata": {},
   "outputs": [],
   "source": [
    "## Tabulate the joint and marginal probabilities\n",
    "data = [('0', '0.1101', '0.223', '0.2253', '0.5584'),\n",
    "       ('1', '0', '0.1068', '0.2203', '0.3271'),\n",
    "       ('2', '0', '0', '0.1145', '0.1145'),\n",
    "       ('g(x)', '0.1101', '0.3298', '0.5601', '1.00')]\n",
    "heads = ['X/Y', '0', '1', '2', 'h(y)']"
   ]
  },
  {
   "cell_type": "code",
   "execution_count": 14,
   "metadata": {},
   "outputs": [
    {
     "name": "stdout",
     "output_type": "stream",
     "text": [
      "| X/Y   |      0 |      1 |      2 |   h(y) |\n",
      "|-------|--------|--------|--------|--------|\n",
      "| 0     | 0.1101 | 0.223  | 0.2253 | 0.5584 |\n",
      "| 1     | 0      | 0.1068 | 0.2203 | 0.3271 |\n",
      "| 2     | 0      | 0      | 0.1145 | 0.1145 |\n",
      "| g(x)  | 0.1101 | 0.3298 | 0.5601 | 1      |\n"
     ]
    }
   ],
   "source": [
    "print(tabulate(data, headers = heads, tablefmt = 'github'))"
   ]
  },
  {
   "cell_type": "code",
   "execution_count": 15,
   "metadata": {},
   "outputs": [
    {
     "name": "stdout",
     "output_type": "stream",
     "text": [
      "| X    |      0 |      1 |      2 |\n",
      "|------|--------|--------|--------|\n",
      "| g(x) | 0.1101 | 0.3298 | 0.5601 |\n"
     ]
    }
   ],
   "source": [
    "# Marginal of X\n",
    "dataX =[('g(x)', '0.1101', '0.3298', '0.5601')] \n",
    "heads = ['X', '0', '1', '2']\n",
    "print(tabulate(dataX, headers = heads, tablefmt = 'github'))"
   ]
  },
  {
   "cell_type": "code",
   "execution_count": 16,
   "metadata": {},
   "outputs": [
    {
     "name": "stdout",
     "output_type": "stream",
     "text": [
      "| Y    |      0 |      1 |      2 |\n",
      "|------|--------|--------|--------|\n",
      "| h(y) | 0.5584 | 0.3271 | 0.1145 |\n"
     ]
    }
   ],
   "source": [
    "# Marginal of Y\n",
    "dataY =[('h(y)', '0.5584', '0.3271', '0.1145')]\n",
    "heads = ['Y', '0', '1', '2']\n",
    "print(tabulate(dataY, headers = heads, tablefmt = 'github'))"
   ]
  },
  {
   "cell_type": "code",
   "execution_count": 20,
   "metadata": {},
   "outputs": [
    {
     "data": {
      "image/png": "[encoded data removed]",
      "text/plain": [
       "<Figure size 432x288 with 2 Axes>"
      ]
     },
     "metadata": {
      "needs_background": "light"
     },
     "output_type": "display_data"
    }
   ],
   "source": [
    "# Covariance and Correlation plot\n",
    "df = data = np.array([x,y])\n",
    "covMatrix = np.cov(df,bias=True)\n",
    "sn.heatmap(covMatrix, annot=True, fmt='g')\n",
    "plt.show()"
   ]
  },
  {
   "cell_type": "code",
   "execution_count": null,
   "metadata": {},
   "outputs": [],
   "source": []
  }
 ],
 "metadata": {
  "kernelspec": {
   "display_name": "Python 3",
   "language": "python",
   "name": "python3"
  },
  "language_info": {
   "codemirror_mode": {
    "name": "ipython",
    "version": 3
   },
   "file_extension": ".py",
   "mimetype": "text/x-python",
   "name": "python",
   "nbconvert_exporter": "python",
   "pygments_lexer": "ipython3",
   "version": "3.8.5"
  }
 },
 "nbformat": 4,
 "nbformat_minor": 4
}
